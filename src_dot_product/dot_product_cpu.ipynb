{
 "cells": [
  {
   "cell_type": "code",
   "execution_count": null,
   "id": "0acc6e94-c59b-47ce-bf9b-874164bef4df",
   "metadata": {},
   "outputs": [],
   "source": [
    "#include<stdio.h>\n",
    "#include<stdlib.h>\n",
    "\n",
    "void dotProduct(float* h_A, float* h_B, float* h_C, int n)\n",
    "{\n",
    "\t*h_C = 0.0;\n",
    "\tfor (int i = 0; i < n; i++)\n",
    "\t\t*h_C += h_A[i] * h_B[i];\n",
    "}\n",
    "\n",
    "int main(int argc, char *argv[]) {\n",
    "\tfloat *h_A, *h_B, h_C;\n",
    "\tint n = 64;\n",
    "\tint size = n * sizeof(float);\n",
    "\n",
    "\t// Memory allocation for h_A and h_B\n",
    "\th_A = (float *) malloc(size);\n",
    "\th_B = (float *) malloc(size);\n",
    "\n",
    "\t// Setup input values into each of n elements of h_A and h_B\n",
    "\tprintf(\"A = [\");\n",
    "\tfor (int i = 0; i < n; i++) {\n",
    "\t\th_A[i] = (float) i;\n",
    "\t\tprintf(\" %.1f \", h_A[i]);\n",
    "\t}\n",
    "\tprintf(\"]\\nB = [\");\n",
    "\tfor (int i = 0; i < n; i++) {\n",
    "\t\th_B[i] = (float) i;\n",
    "\t\tprintf(\" %.1f \", h_B[i]);\n",
    "\t}\n",
    "\tprintf(\"]\\n\");\n",
    "\n",
    "\tdotProduct(h_A, h_B, &h_C, n);    // Call the host function for dot product\n",
    "\n",
    "\t// Output the results\n",
    "\tprintf(\"Dot Product = %.1f\\n\", h_C);\n",
    "\n",
    "\t// Free host memory for A and B\n",
    "\tfree(h_A);\n",
    "\tfree(h_B);\n",
    "\treturn 0;\n",
    "}"
   ]
  }
 ],
 "metadata": {
  "kernelspec": {
   "display_name": "Cuda-C",
   "language": "Cuda-C",
   "name": "cuda-c"
  },
  "language_info": {
   "file_extension": ".cu",
   "mimetype": "text/plain",
   "name": "cuda"
  }
 },
 "nbformat": 4,
 "nbformat_minor": 5
}
