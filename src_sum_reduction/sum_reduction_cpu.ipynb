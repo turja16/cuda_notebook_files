{
 "cells": [
  {
   "cell_type": "code",
   "execution_count": null,
   "id": "0acc6e94-c59b-47ce-bf9b-874164bef4df",
   "metadata": {},
   "outputs": [],
   "source": [
    "#include <stdio.h>\n",
    "#include <stdlib.h>\n",
    "#include <time.h>\n",
    "#include <stdio.h>\n",
    "#include <stdlib.h>\n",
    "\n",
    "struct timespec getDiffTime(struct timespec *startTime, struct timespec *endTime)\n",
    "{\n",
    "\tstruct timespec diff;                                                                         \n",
    "\tdiff.tv_sec = endTime->tv_sec - startTime->tv_sec;                                            \n",
    "\tdiff.tv_nsec = endTime->tv_nsec - startTime->tv_nsec;                                         \n",
    "\tif (diff.tv_nsec < 0) {                                                                       \n",
    "\t\tdiff.tv_nsec += 1.0e9;                                                                \n",
    "\t\tdiff.tv_sec--;                                                                        \n",
    "\t}                                                                                             \n",
    "\treturn diff;                                                                                  \n",
    "} \n",
    "float sumRed(float* h_vec, int n)\n",
    "{\n",
    "\tfloat sum = h_vec[0];\n",
    "\tfor (int i = 1; i < n; i++)\n",
    "\t\tsum += h_vec[i];\n",
    "\treturn sum;\n",
    "}\n",
    "\n",
    "int main(int argc, char *argv[])\n",
    "{\n",
    "\tprintf(\"Enter the number of elements to be summed up: \");\n",
    "\tint n;\n",
    "\tscanf(\"%d\", &n);\n",
    "\n",
    "\tfloat *h_vec;\n",
    "\th_vec = (float *) malloc(n * sizeof(float));\n",
    "\n",
    "\tfor (int i = 0; i < n; i++)\n",
    "\t\th_vec[i] = 2.0;\n",
    "\n",
    "\tstruct timespec startTime;\n",
    "\tclock_gettime(CLOCK_REALTIME, &startTime);\n",
    "\tfloat sum = sumRed(h_vec, n);\n",
    "\tstruct timespec endTime;\n",
    "\tclock_gettime(CLOCK_REALTIME, &endTime);\n",
    "\n",
    "\tprintf(\"sum = %.1f\\n\", sum);\n",
    "\tstruct timespec diffTime = getDiffTime(&startTime, &endTime);\n",
    "\tprintf(\"Execution time: %ld s and %ld us.\\n\", diffTime.tv_sec, diffTime.tv_nsec / (long) 1000);\n",
    "\n",
    "\tfree(h_vec);\n",
    "\treturn 0;\n",
    "}"
   ]
  }
 ],
 "metadata": {
  "kernelspec": {
   "display_name": "Cuda-C",
   "language": "Cuda-C",
   "name": "cuda-c"
  },
  "language_info": {
   "file_extension": ".cu",
   "mimetype": "text/plain",
   "name": "cuda"
  }
 },
 "nbformat": 4,
 "nbformat_minor": 5
}
