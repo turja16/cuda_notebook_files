{
 "cells": [
  {
   "cell_type": "code",
   "execution_count": null,
   "id": "0acc6e94-c59b-47ce-bf9b-874164bef4df",
   "metadata": {},
   "outputs": [],
   "source": [
    "#include<stdio.h>\n",
    "#include<stdlib.h>\n",
    "\n",
    "#define NUM_COL 10\n",
    "#define NUM_ROW 17\n",
    "\n",
    "// Compute matrix sum h_C = h_A + h_B with the host function\n",
    "void matAdd(float h_C[NUM_ROW][NUM_COL], float h_A[NUM_ROW][NUM_COL], float h_B[NUM_ROW][NUM_COL])\n",
    "{\n",
    "\tprintf(\"in matAdd, h_A = %u, h_B = %u, h_C = %u\\n\", h_A, h_B, h_C);\n",
    "\tfor(int row = 0; row < NUM_ROW; row++) {\n",
    "\t\tfor(int col = 0; col < NUM_COL; col++) {\n",
    "\t\t\th_C[row][col] = h_A[row][col] + h_B[row][col];\n",
    "\t\t}\n",
    "\t}\n",
    "}\n",
    "\n",
    "int main(int argc, char *argv[])\n",
    "{\n",
    "\t// Memory allocation for h_A, h_B, and h_C\n",
    "\tfloat h_A[NUM_ROW][NUM_COL];\n",
    "\tfloat h_B[NUM_ROW][NUM_COL];\n",
    "\tfloat h_C[NUM_ROW][NUM_COL];\n",
    "\n",
    "\t// Setup input values into each of n elements of h_A and h_B\n",
    "\tfor(int row = 0; row < NUM_ROW; row++) {\n",
    "\t\tfor(int col = 0; col < NUM_COL; col++) {\n",
    "\t\t\tint offset = row * NUM_COL + col;\n",
    "\t\t\th_A[row][col] = (float) offset;\n",
    "\t\t\th_B[row][col] = (float) offset;\n",
    "\t\t}\n",
    "\t}\n",
    "\n",
    "\t// Call the host function for matrix addition\n",
    "\tprintf(\"In main, h_A = %u, h_B = %u, h_C = %u\\n\", h_A, h_B, h_C);\n",
    "\tmatAdd(h_C, h_A, h_B);\n",
    "\n",
    "\t// Output the results\n",
    "\tfor(int row = 0; row < NUM_ROW; row++) {\n",
    "\t\tfor(int col = 0; col < NUM_COL; col++) {\n",
    "\t\t\tprintf(\"%.1f + %.1f = %.1f\\n\", h_A[row][col] , h_B[row][col], h_C[row][col]);\n",
    "\t\t}\n",
    "\t}\n",
    "\n",
    "\treturn 0;\n",
    "}"
   ]
  }
 ],
 "metadata": {
  "kernelspec": {
   "display_name": "Cuda-C",
   "language": "Cuda-C",
   "name": "cuda-c"
  },
  "language_info": {
   "file_extension": ".cu",
   "mimetype": "text/plain",
   "name": "cuda"
  }
 },
 "nbformat": 4,
 "nbformat_minor": 5
}
