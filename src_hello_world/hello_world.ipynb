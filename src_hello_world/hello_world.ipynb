{
 "cells": [
  {
   "cell_type": "code",
   "execution_count": null,
   "id": "0acc6e94-c59b-47ce-bf9b-874164bef4df",
   "metadata": {},
   "outputs": [],
   "source": [
    "#include<stdio.h>\n",
    "#include<stdlib.h> \n",
    "\n",
    "__global__ void print_from_gpu(void)\n",
    "{\n",
    "\tprintf(\"Hello World! from thread [%d,%d] from device\\n\", \n",
    "\t\t\tblockIdx.x, threadIdx.x); \n",
    "}\n",
    "\n",
    "int main(int argc, char *argv[])\n",
    "{ \n",
    "\tprintf(\"Hello World from host!\\n\"); \n",
    "\tprint_from_gpu<<<2, 3>>>();\n",
    "\tcudaDeviceSynchronize();\n",
    "\treturn 0;\n",
    "}\n"
   ]
  }
 ],
 "metadata": {
  "kernelspec": {
   "display_name": "Cuda-C",
   "language": "Cuda-C",
   "name": "cuda-c"
  },
  "language_info": {
   "file_extension": ".cu",
   "mimetype": "text/plain",
   "name": "cuda"
  }
 },
 "nbformat": 4,
 "nbformat_minor": 5
}
