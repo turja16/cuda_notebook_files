{
 "cells": [
  {
   "cell_type": "code",
   "execution_count": null,
   "id": "0acc6e94-c59b-47ce-bf9b-874164bef4df",
   "metadata": {},
   "outputs": [],
   "source": [
    "#include<stdio.h>\n",
    "#include<stdlib.h>\n",
    "\n",
    "// Compute vector sum h_C = h_A + h_B with the host function\n",
    "void vecAdd(float* h_A, float* h_B, float* h_C, int n)\n",
    "{\n",
    "\tfor (int i = 0; i < n; i++)\n",
    "\t\th_C[i] = h_A[i] + h_B[i];\n",
    "}\n",
    "\n",
    "int main(int argc, char *argv[])\n",
    "{\n",
    "\tfloat *h_A, *h_B, *h_C;\n",
    "\tint n = 64;\n",
    "\tint size = n * sizeof(float);\n",
    "\n",
    "\t// Memory allocation for h_A, h_B, and h_C\n",
    "\th_A = (float *) malloc(size);\n",
    "\th_B = (float *) malloc(size);\n",
    "\th_C = (float *) malloc(size);\n",
    "\n",
    "\t// Setup input values into each of n elements of h_A and h_B\n",
    "\tfor (int i = 0; i < n; i++)\n",
    "\t\th_A[i] = (float) i;\n",
    "\tfor (int i = 0; i < n; i++)\n",
    "\t\th_B[i] = (float) i;\n",
    "\n",
    "\tvecAdd(h_A, h_B, h_C, n);    // Call the host function for vector addition\n",
    "\n",
    "\t// Output the results\n",
    "\tfor(int i = 0; i < n; i++)\n",
    "\t\tprintf(\"%.1f + %.1f = %.1f\\n\", h_A[i] , h_B[i], h_C[i]);\n",
    "\n",
    "\t// Free host memory for A, B, C\n",
    "\tfree(h_A);\n",
    "\tfree(h_B);\n",
    "\tfree(h_C);\n",
    "\treturn 0;\n",
    "}"
   ]
  }
 ],
 "metadata": {
  "kernelspec": {
   "display_name": "Cuda-C",
   "language": "Cuda-C",
   "name": "cuda-c"
  },
  "language_info": {
   "file_extension": ".cu",
   "mimetype": "text/plain",
   "name": "cuda"
  }
 },
 "nbformat": 4,
 "nbformat_minor": 5
}
